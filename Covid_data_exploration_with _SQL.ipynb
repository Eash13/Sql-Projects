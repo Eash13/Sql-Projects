{
 "cells": [
  {
   "cell_type": "markdown",
   "id": "b6652c66-c895-41f0-8ad0-1afe616896e7",
   "metadata": {},
   "source": [
    "Importing Pakages and Data"
   ]
  },
  {
   "cell_type": "code",
   "execution_count": null,
   "id": "ccde0f12-1b24-473d-a9cb-837e0a18dc38",
   "metadata": {
    "scrolled": true
   },
   "outputs": [],
   "source": [
    "import pandas as pd\n",
    "import numpy as np\n",
    "import sqlite3"
   ]
  },
  {
   "cell_type": "code",
   "execution_count": null,
   "id": "285ab931-85b2-48e3-9ef5-d9d14a495ecb",
   "metadata": {},
   "outputs": [],
   "source": [
    "df = pd.read_csv(\"CovidDeaths.csv\")"
   ]
  },
  {
   "cell_type": "code",
   "execution_count": null,
   "id": "321292dc-8300-4019-a10e-07f56ef43b04",
   "metadata": {},
   "outputs": [],
   "source": [
    "df1 = pd.read_csv('CovidVaccinations.csv')"
   ]
  },
  {
   "cell_type": "code",
   "execution_count": null,
   "id": "af9e87cc-d57a-46fd-98dd-f64ead5eaa6d",
   "metadata": {},
   "outputs": [],
   "source": [
    "df1.head()"
   ]
  },
  {
   "cell_type": "code",
   "execution_count": null,
   "id": "71db31d5-8fe6-4fa3-93c3-951cbbee51b3",
   "metadata": {},
   "outputs": [],
   "source": [
    "df.head()"
   ]
  },
  {
   "cell_type": "code",
   "execution_count": null,
   "id": "b7d4964b-97a1-41d1-946f-73a78b03920d",
   "metadata": {
    "scrolled": true
   },
   "outputs": [],
   "source": [
    "df.info()"
   ]
  },
  {
   "cell_type": "code",
   "execution_count": null,
   "id": "78a04075-6b68-4235-a83f-4aa82471437f",
   "metadata": {
    "scrolled": true
   },
   "outputs": [],
   "source": [
    "df1.info()"
   ]
  },
  {
   "cell_type": "code",
   "execution_count": null,
   "id": "9cb2f81c-9c17-4817-b349-9c8836906660",
   "metadata": {},
   "outputs": [],
   "source": [
    "df['date'] = pd.to_datetime(df['date'], dayfirst=True)\n",
    "df1['date'] = pd.to_datetime(df1['date'], dayfirst=True)"
   ]
  },
  {
   "cell_type": "code",
   "execution_count": null,
   "id": "55f5d8ce-fe60-4990-b363-466a8e642070",
   "metadata": {},
   "outputs": [],
   "source": [
    "df.head()"
   ]
  },
  {
   "cell_type": "markdown",
   "id": "df397944-3e3e-45fb-bf1e-749a3a05ea68",
   "metadata": {},
   "source": [
    "Connecting to Sql"
   ]
  },
  {
   "cell_type": "code",
   "execution_count": null,
   "id": "950e3688-c78a-4c89-b74e-2728fbe171b4",
   "metadata": {},
   "outputs": [],
   "source": [
    "cnn = sqlite3.connect('covid.db')"
   ]
  },
  {
   "cell_type": "code",
   "execution_count": null,
   "id": "04747e57-f5a9-4378-b706-f191d962beab",
   "metadata": {},
   "outputs": [],
   "source": [
    "df.to_sql('covid_deaths',cnn)"
   ]
  },
  {
   "cell_type": "code",
   "execution_count": null,
   "id": "a24518c0-ae3f-485a-a263-9f7cd9492f6c",
   "metadata": {},
   "outputs": [],
   "source": [
    "df1.to_sql('covid_vaccinations',cnn)"
   ]
  },
  {
   "cell_type": "code",
   "execution_count": null,
   "id": "a7063b73-9d60-4704-9266-3715ab411a50",
   "metadata": {},
   "outputs": [],
   "source": [
    "%load_ext sql"
   ]
  },
  {
   "cell_type": "code",
   "execution_count": null,
   "id": "5ade1c24-cf49-4fa5-907b-98a85ba6a32a",
   "metadata": {},
   "outputs": [],
   "source": [
    "%sql sqlite:///covid.db"
   ]
  },
  {
   "cell_type": "markdown",
   "id": "bca8565b-6d42-4ec7-b07e-d9b13a954b69",
   "metadata": {},
   "source": [
    "-- Birds eye view of the data sample"
   ]
  },
  {
   "cell_type": "code",
   "execution_count": null,
   "id": "c35131b0-6a2f-4301-84f2-169d2b24e0f1",
   "metadata": {},
   "outputs": [],
   "source": [
    "%%sql\n",
    "\n",
    "SELECT * \n",
    "FROM covid_deaths\n",
    "\n"
   ]
  },
  {
   "cell_type": "code",
   "execution_count": null,
   "id": "bc6b74ab-b2c7-444f-aca5-d30d7c4b27a6",
   "metadata": {
    "scrolled": true
   },
   "outputs": [],
   "source": [
    "%%sql \n",
    "\n",
    "select * \n",
    "from covid_vaccinations\n"
   ]
  },
  {
   "cell_type": "code",
   "execution_count": null,
   "id": "2412d6a0-ac21-4e0a-bfce-6cba816c7960",
   "metadata": {
    "scrolled": true
   },
   "outputs": [],
   "source": [
    "%%sql \n",
    "\n",
    "select * \n",
    "from covid_vaccinations\n",
    "order by 3,4\n"
   ]
  },
  {
   "cell_type": "markdown",
   "id": "bd148fed-d527-4dff-bede-3220ae3cb6d3",
   "metadata": {},
   "source": [
    "Select Data that we are going to be starting with"
   ]
  },
  {
   "cell_type": "code",
   "execution_count": null,
   "id": "89f20f7a-4e10-4a51-9690-6507548ed313",
   "metadata": {},
   "outputs": [],
   "source": [
    "%%sql\n",
    "\n",
    "select Location,DATE(date) AS date_only,total_cases,new_cases,total_deaths,population\n",
    "from covid_deaths\n",
    "order by 1,2\n"
   ]
  },
  {
   "cell_type": "markdown",
   "id": "5c14b23c-9415-4f1c-96d9-daade2f00596",
   "metadata": {},
   "source": [
    "Total Cases vs Total Deaths.\n",
    "- Shows likelihood of dying if you contract covid\n"
   ]
  },
  {
   "cell_type": "code",
   "execution_count": null,
   "id": "010a884c-76ba-45f2-9cac-df5b2577e933",
   "metadata": {
    "scrolled": true
   },
   "outputs": [],
   "source": [
    "%%sql\n",
    "\n",
    "select Location,DATE(date) AS date_only,total_cases,total_deaths,population,(total_deaths/total_cases)*100 as death_percent\n",
    "from covid_deaths\n",
    "order by 1,2"
   ]
  },
  {
   "cell_type": "code",
   "execution_count": null,
   "id": "a9e88344-a677-426e-bdb0-295ab3b9a3b8",
   "metadata": {
    "scrolled": true
   },
   "outputs": [],
   "source": [
    "%%sql\n",
    "\n",
    "select Location,DATE(date) AS date_only,total_cases,total_deaths,(total_deaths/total_cases)*100 as death_percent\n",
    "from covid_deaths\n",
    "where location = 'India'\n",
    "order by 1,2"
   ]
  },
  {
   "cell_type": "markdown",
   "id": "16ea3fce-0d39-46b5-8bd5-6085d6bbee5a",
   "metadata": {},
   "source": [
    "Total Cases vs Population.\n",
    "- Shows the percentage of population infected with Covid"
   ]
  },
  {
   "cell_type": "code",
   "execution_count": null,
   "id": "82e32cd2-fd57-400f-9e80-1ea7923c8b03",
   "metadata": {
    "scrolled": true
   },
   "outputs": [],
   "source": [
    "%%sql\n",
    "\n",
    "select Location,DATE(date) AS date_only,total_cases,population,(total_cases/population)*100 as case_percent\n",
    "from covid_deaths\n",
    "order by 1,2"
   ]
  },
  {
   "cell_type": "code",
   "execution_count": null,
   "id": "a43bf8a7-0d63-45d8-8805-948c6fd64de3",
   "metadata": {
    "scrolled": true
   },
   "outputs": [],
   "source": [
    "%%sql\n",
    "\n",
    "select Location,DATE(date) AS date_only,total_cases,population,(total_cases/population)*100 as case_percent\n",
    "from covid_deaths\n",
    "where location = 'India'\n",
    "order by 1,2"
   ]
  },
  {
   "cell_type": "markdown",
   "id": "7f40e9f3-99ad-4e26-81d1-8bc89fa5e2b0",
   "metadata": {},
   "source": [
    " Countries with Highest Infection Rate compared to Population"
   ]
  },
  {
   "cell_type": "code",
   "execution_count": null,
   "id": "dccb96b9-acc4-4e32-b4d6-1fe87c8c3b12",
   "metadata": {
    "scrolled": true
   },
   "outputs": [],
   "source": [
    "%%sql\n",
    "\n",
    "select Location,population,MAX(total_cases) as infection_count,MAX((total_cases/population))*100 as infection_percent\n",
    "from covid_deaths\n",
    "group by population, Location\n",
    "order by infection_percent desc"
   ]
  },
  {
   "cell_type": "markdown",
   "id": "e1e69d11-84c5-41ef-b179-2c36e60a816b",
   "metadata": {},
   "source": [
    "Countries with Highest Death Count per Population"
   ]
  },
  {
   "cell_type": "code",
   "execution_count": null,
   "id": "47527e38-9972-4757-bfc3-f29004cae696",
   "metadata": {
    "scrolled": true
   },
   "outputs": [],
   "source": [
    "%%sql\n",
    "\n",
    "select Location,population,MAX(total_deaths) as death_count\n",
    "from covid_deaths\n",
    "where continent is not null\n",
    "group by population, Location\n",
    "order by death_count desc"
   ]
  },
  {
   "cell_type": "markdown",
   "id": "06c37698-2f8e-49f4-9256-b5d1bed84333",
   "metadata": {},
   "source": [
    "Highest death count per population by Continents"
   ]
  },
  {
   "cell_type": "code",
   "execution_count": null,
   "id": "9ea56f68-456f-42ce-82ad-67a943bc1d65",
   "metadata": {},
   "outputs": [],
   "source": [
    "%%sql\n",
    "\n",
    "select location,MAX(total_deaths) as death_count\n",
    "from covid_deaths\n",
    "where continent is null\n",
    "group by location\n",
    "order by death_count desc"
   ]
  },
  {
   "cell_type": "code",
   "execution_count": null,
   "id": "2e631bf9-dfcd-4883-8b66-83e9a3b7f209",
   "metadata": {},
   "outputs": [],
   "source": [
    "%%sql\n",
    "select location, SUM(new_deaths) as TotalDeathCount\n",
    "from covid_deaths\n",
    "where continent is null \n",
    "and location not in ('World', 'European Union', 'International')\n",
    "group by location\n",
    "order by TotalDeathCount desc"
   ]
  },
  {
   "cell_type": "markdown",
   "id": "cf0f2011-0a71-4c6f-8fcf-a7c596b32920",
   "metadata": {},
   "source": [
    "Rolling number of new cases and new deaths by date "
   ]
  },
  {
   "cell_type": "code",
   "execution_count": null,
   "id": "ed52ea0c-9879-4fa8-98a2-26f604fbcef4",
   "metadata": {
    "scrolled": true
   },
   "outputs": [],
   "source": [
    "%%sql\n",
    "\n",
    "select DATE(date) AS date_only, sum(new_cases), sum(new_deaths), sum(new_deaths)/sum(new_cases) *100 as death_percentage\n",
    "from covid_deaths\n",
    "group by date\n",
    "order by 1,2\n"
   ]
  },
  {
   "cell_type": "markdown",
   "id": "e60ba03f-c611-47ff-8ff3-eee49c3b4d97",
   "metadata": {},
   "source": [
    "Global Numbers"
   ]
  },
  {
   "cell_type": "code",
   "execution_count": null,
   "id": "8d96d95b-1a10-4b28-b5ce-8dcdfbfdbfbc",
   "metadata": {},
   "outputs": [],
   "source": [
    "%%sql\n",
    "\n",
    "select sum(new_cases) as total_cases, sum(new_deaths) as total_deaths, sum(new_deaths)/sum(new_cases) *100 as death_percentage\n",
    "from covid_deaths\n",
    "where continent is not null\n",
    "order by 1,2"
   ]
  },
  {
   "cell_type": "markdown",
   "id": "6a52842a-2882-434e-99ff-55d4e4e88e23",
   "metadata": {},
   "source": [
    "Total Population vs Vaccinations.\n",
    "\n",
    "  ShowsNumber  of Population that has recieved at least one Covid Vaccine"
   ]
  },
  {
   "cell_type": "code",
   "execution_count": null,
   "id": "6eec11d8-0a62-4e7c-a813-e243452773dd",
   "metadata": {
    "scrolled": true
   },
   "outputs": [],
   "source": [
    "%%sql\n",
    "\n",
    "select d.continent, d.location, d.date, d.population, MAX(v.total_vaccinations) as RollingPeopleVaccinated\n",
    "from covid_deaths as d\n",
    "join covid_vaccinations as v\n",
    "\tOn d.location = v.location\n",
    "\tand d.date = v.date\n",
    "where d.continent is not null \n",
    "group by d.continent, d.location, d.date, d.population\n",
    "order by 1,2,3\n"
   ]
  },
  {
   "cell_type": "code",
   "execution_count": null,
   "id": "8bac0a49-738d-47f0-a19f-dc41ad17ee5c",
   "metadata": {
    "scrolled": true
   },
   "outputs": [],
   "source": [
    "%%sql\n",
    "\n",
    "select d.continent,d.location,d.date,d.population,v.new_vaccinations, sum(v.new_vaccinations) over(partition by d.location order by d.location,d.date) as RollingPeopleVaccinated\n",
    "from covid_deaths as d\n",
    "join covid_vaccinations as v\n",
    "on d.location =v.location and d.date = v.date\n",
    "where d.continent is not null\n",
    "order by 2,3\n",
    "\n",
    "    "
   ]
  },
  {
   "cell_type": "markdown",
   "id": "b535f4f8-ad6e-42af-be33-8adf1e583b9c",
   "metadata": {},
   "source": [
    "Using CTE to perform Calculation on Partition By in previous query"
   ]
  },
  {
   "cell_type": "code",
   "execution_count": null,
   "id": "c3e6d42b-0d67-415d-a559-a1840910b543",
   "metadata": {
    "scrolled": true
   },
   "outputs": [],
   "source": [
    "%%sql\n",
    "\n",
    "with temp (continent,location,date,population,new_vaccinations,total_vac_till_date) \n",
    "as\n",
    "(\n",
    "select d.continent,d.location,d.date,d.population,v.new_vaccinations, \n",
    "    sum(v.new_vaccinations) over(partition by d.location order by d.location, d.date) as total_vac_till_date\n",
    "from covid_deaths as d\n",
    "join covid_vaccinations as v\n",
    "on d.location =v.location and d.date = v.date\n",
    "where d.continent is not null\n",
    "\n",
    ")\n",
    "\n",
    "select * , (total_vac_till_date/population)*100\n",
    "from temp"
   ]
  },
  {
   "cell_type": "markdown",
   "id": "f8c34cde-2fe9-44f9-98d9-167774ef5bdc",
   "metadata": {},
   "source": [
    "Using Temp Table to perform Calculation on Partition By in previous query"
   ]
  },
  {
   "cell_type": "code",
   "execution_count": null,
   "id": "4f4fab04-b2cc-4ba2-aa5a-a58191b61bb1",
   "metadata": {},
   "outputs": [],
   "source": [
    "%%sql\n",
    "create table percent_population_vac\n",
    "(\n",
    "    continent nvarchar(225),\n",
    "    location nvarchar(225),\n",
    "    date datetime,\n",
    "    population numeric,\n",
    "    new_vaccination numeric,\n",
    "    total_vac_till_date numeric\n",
    ")\n",
    "\n",
    "\n"
   ]
  },
  {
   "cell_type": "code",
   "execution_count": null,
   "id": "db0d1a87-3bb4-4788-808c-d356a0a06ea5",
   "metadata": {},
   "outputs": [],
   "source": [
    "%%sql\n",
    "\n",
    "insert into percent_population_vac\n",
    "\n",
    "select d.continent,d.location,d.date,d.population,v.new_vaccinations, \n",
    "    sum(v.new_vaccinations) over(partition by d.location order by d.location, d.date) as total_vac_till_date\n",
    "from covid_deaths as d\n",
    "join covid_vaccinations as v\n",
    "on d.location =v.location and d.date = v.date\n",
    "where d.continent is not null\n",
    "\n",
    "\n"
   ]
  },
  {
   "cell_type": "code",
   "execution_count": null,
   "id": "4ae1c299-b585-4f02-9ce4-683a93e6c451",
   "metadata": {
    "scrolled": true
   },
   "outputs": [],
   "source": [
    "%%sql\n",
    "\n",
    "select * , (total_vac_till_date/population)*100\n",
    "from percent_population_vac"
   ]
  },
  {
   "cell_type": "markdown",
   "id": "a40913d2-d5db-41ed-b718-783977ddc1f9",
   "metadata": {},
   "source": [
    "Exporting some tables obtained from the above queries as csv file to perform visualizations in Tableau"
   ]
  },
  {
   "cell_type": "code",
   "execution_count": null,
   "id": "07b0be1d-1a72-4f59-8e9a-4f6dae763490",
   "metadata": {},
   "outputs": [],
   "source": [
    "cursor = cnn.cursor()\n"
   ]
  },
  {
   "cell_type": "code",
   "execution_count": null,
   "id": "d90daa96-a23c-40a3-aa63-5cb632ca85cf",
   "metadata": {},
   "outputs": [],
   "source": [
    "\n",
    "q1 = \"SELECT sum(new_cases) as total_cases, sum(new_deaths) as total_deaths, sum(new_deaths)/sum(new_cases) *100 as death_percentage FROM covid_deaths ORDER BY 1,2\"\n",
    "cursor.execute(q1)"
   ]
  },
  {
   "cell_type": "code",
   "execution_count": null,
   "id": "0026967f-9479-48f7-8696-381bdd0ed841",
   "metadata": {},
   "outputs": [],
   "source": [
    "death_percentage = pd.DataFrame(cursor.fetchall(), columns=[description[0] for description in cursor.description])"
   ]
  },
  {
   "cell_type": "code",
   "execution_count": null,
   "id": "aefb270b-c034-4ac5-8a45-8bf058ff2a88",
   "metadata": {},
   "outputs": [],
   "source": [
    "death_percentage.to_csv('death_percent.csv', index=False) "
   ]
  },
  {
   "cell_type": "code",
   "execution_count": null,
   "id": "c66f27ea-8c73-4f07-ba73-a16fc85b4a9d",
   "metadata": {},
   "outputs": [],
   "source": [
    "q2 =\"select location, SUM(new_deaths) as TotalDeathCount from covid_deaths where continent is null and location not in ('World', 'European Union', 'International') group by location order by TotalDeathCount desc\"\n",
    "cursor.execute(q2)\n",
    "data2 = pd.DataFrame(cursor.fetchall(), columns=[description[0] for description in cursor.description])\n",
    "data2.to_csv ('death_continent.csv', index = False)"
   ]
  },
  {
   "cell_type": "code",
   "execution_count": null,
   "id": "f2e5a4b7-66f8-4459-b247-d3effa918736",
   "metadata": {},
   "outputs": [],
   "source": [
    " q3 = \" select Location,population,MAX(total_cases) as infection_count,MAX((total_cases/population))*100 as infection_percent from covid_deaths group by population, Location order by infection_percent desc\"\n"
   ]
  },
  {
   "cell_type": "code",
   "execution_count": null,
   "id": "fff28d9a-30d0-44d1-a199-d70922f349bf",
   "metadata": {},
   "outputs": [],
   "source": [
    "cursor.execute(q3)\n",
    "data3 = pd.DataFrame(cursor.fetchall(), columns=[description[0] for description in cursor.description])\n"
   ]
  },
  {
   "cell_type": "code",
   "execution_count": null,
   "id": "7978e839-39ea-4174-a23b-663da6f35381",
   "metadata": {},
   "outputs": [],
   "source": [
    "\n",
    "data3 = data3.fillna(0)\n"
   ]
  },
  {
   "cell_type": "code",
   "execution_count": null,
   "id": "bb58f675-6159-43e8-9a8b-23e9e3f947a6",
   "metadata": {},
   "outputs": [],
   "source": [
    "data3.to_csv ('infection_count.csv', index = False)"
   ]
  },
  {
   "cell_type": "code",
   "execution_count": null,
   "id": "11d86f47-7b81-4ffa-a6ff-a846bcb1344d",
   "metadata": {
    "scrolled": true
   },
   "outputs": [],
   "source": [
    "%%sql\n",
    "\n",
    "Select Location, population,DATE(date) AS date, MAX(total_cases) as HighestInfectionCount,  Max((total_cases/population))*100 as PercentPopulationInfected\n",
    "From covid_deaths\n",
    "Group by Location, Population, date\n",
    "order by PercentPopulationInfected desc\n",
    "limit 100"
   ]
  },
  {
   "cell_type": "code",
   "execution_count": null,
   "id": "86cc590b-fb0f-402e-b430-e6a202cad0a2",
   "metadata": {},
   "outputs": [],
   "source": [
    "q4 = \"Select Location, population,DATE(date) AS date, MAX(total_cases) as HighestInfectionCount,  Max((total_cases/population))*100 as PercentPopulationInfected From covid_deaths Group by Location, Population, date order by PercentPopulationInfected desc\"\n",
    "cursor.execute(q4)\n",
    "data4 = pd.DataFrame(cursor.fetchall(), columns=[description[0] for description in cursor.description])\n"
   ]
  },
  {
   "cell_type": "code",
   "execution_count": null,
   "id": "c329838a-4018-46f9-a1fc-6c6e026d785f",
   "metadata": {},
   "outputs": [],
   "source": [
    "\n",
    "data4 = data4.fillna(0)"
   ]
  },
  {
   "cell_type": "code",
   "execution_count": null,
   "id": "4cdfeffe-237f-4248-9fcb-3b8eebc71270",
   "metadata": {},
   "outputs": [],
   "source": [
    "data4.to_csv ('table4.csv', index = False)"
   ]
  },
  {
   "cell_type": "code",
   "execution_count": null,
   "id": "808addc0-c3e9-4e19-96fe-7e932c73b9f6",
   "metadata": {},
   "outputs": [],
   "source": []
  }
 ],
 "metadata": {
  "kernelspec": {
   "display_name": "Python 3 (ipykernel)",
   "language": "python",
   "name": "python3"
  },
  "language_info": {
   "codemirror_mode": {
    "name": "ipython",
    "version": 3
   },
   "file_extension": ".py",
   "mimetype": "text/x-python",
   "name": "python",
   "nbconvert_exporter": "python",
   "pygments_lexer": "ipython3",
   "version": "3.12.0"
  }
 },
 "nbformat": 4,
 "nbformat_minor": 5
}
